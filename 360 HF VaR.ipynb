{
 "cells": [
  {
   "cell_type": "markdown",
   "id": "a4c6e2fa-b8ce-4e28-8d57-1d152e594c00",
   "metadata": {},
   "source": [
    "# 360 HF VaR"
   ]
  },
  {
   "cell_type": "code",
   "execution_count": 2,
   "id": "1361abac-020c-462a-9b29-81a3eed66d01",
   "metadata": {},
   "outputs": [],
   "source": [
    "import pandas as pd\n",
    "import numpy as np\n",
    "import yfinance as yf\n",
    "from scipy.stats import norm"
   ]
  },
  {
   "cell_type": "code",
   "execution_count": 86,
   "id": "9795b7ab-31a8-4c5a-acb2-50c690a65047",
   "metadata": {},
   "outputs": [
    {
     "name": "stderr",
     "output_type": "stream",
     "text": [
      "[*********************100%%**********************]  44 of 44 completed\n"
     ]
    },
    {
     "data": {
      "text/html": [
       "<div>\n",
       "<style scoped>\n",
       "    .dataframe tbody tr th:only-of-type {\n",
       "        vertical-align: middle;\n",
       "    }\n",
       "\n",
       "    .dataframe tbody tr th {\n",
       "        vertical-align: top;\n",
       "    }\n",
       "\n",
       "    .dataframe thead th {\n",
       "        text-align: right;\n",
       "    }\n",
       "</style>\n",
       "<table border=\"1\" class=\"dataframe\">\n",
       "  <thead>\n",
       "    <tr style=\"text-align: right;\">\n",
       "      <th></th>\n",
       "      <th>ABT</th>\n",
       "      <th>ACLS</th>\n",
       "      <th>AMKR</th>\n",
       "      <th>AWK</th>\n",
       "      <th>CMCSA</th>\n",
       "      <th>CRM</th>\n",
       "      <th>CSCO</th>\n",
       "      <th>EHC</th>\n",
       "      <th>EOG</th>\n",
       "      <th>FIX</th>\n",
       "      <th>...</th>\n",
       "      <th>VAW</th>\n",
       "      <th>VCR</th>\n",
       "      <th>VDC</th>\n",
       "      <th>VDE</th>\n",
       "      <th>VFH</th>\n",
       "      <th>VGT</th>\n",
       "      <th>VHT</th>\n",
       "      <th>VIS</th>\n",
       "      <th>VNQ</th>\n",
       "      <th>VTHR</th>\n",
       "    </tr>\n",
       "    <tr>\n",
       "      <th>Date</th>\n",
       "      <th></th>\n",
       "      <th></th>\n",
       "      <th></th>\n",
       "      <th></th>\n",
       "      <th></th>\n",
       "      <th></th>\n",
       "      <th></th>\n",
       "      <th></th>\n",
       "      <th></th>\n",
       "      <th></th>\n",
       "      <th></th>\n",
       "      <th></th>\n",
       "      <th></th>\n",
       "      <th></th>\n",
       "      <th></th>\n",
       "      <th></th>\n",
       "      <th></th>\n",
       "      <th></th>\n",
       "      <th></th>\n",
       "      <th></th>\n",
       "      <th></th>\n",
       "    </tr>\n",
       "  </thead>\n",
       "  <tbody>\n",
       "    <tr>\n",
       "      <th>2024-10-30</th>\n",
       "      <td>114.449997</td>\n",
       "      <td>90.150002</td>\n",
       "      <td>26.730000</td>\n",
       "      <td>135.690002</td>\n",
       "      <td>42.240002</td>\n",
       "      <td>296.399994</td>\n",
       "      <td>55.590000</td>\n",
       "      <td>101.339996</td>\n",
       "      <td>120.519997</td>\n",
       "      <td>390.149994</td>\n",
       "      <td>...</td>\n",
       "      <td>208.860001</td>\n",
       "      <td>338.390015</td>\n",
       "      <td>212.570007</td>\n",
       "      <td>123.029999</td>\n",
       "      <td>114.879997</td>\n",
       "      <td>602.320007</td>\n",
       "      <td>272.369995</td>\n",
       "      <td>260.769989</td>\n",
       "      <td>95.769997</td>\n",
       "      <td>256.799988</td>\n",
       "    </tr>\n",
       "    <tr>\n",
       "      <th>2024-10-31</th>\n",
       "      <td>113.370003</td>\n",
       "      <td>85.309998</td>\n",
       "      <td>25.450001</td>\n",
       "      <td>138.110001</td>\n",
       "      <td>43.669998</td>\n",
       "      <td>291.369995</td>\n",
       "      <td>54.770000</td>\n",
       "      <td>99.459999</td>\n",
       "      <td>121.959999</td>\n",
       "      <td>391.040009</td>\n",
       "      <td>...</td>\n",
       "      <td>205.800003</td>\n",
       "      <td>333.089996</td>\n",
       "      <td>212.050003</td>\n",
       "      <td>123.639999</td>\n",
       "      <td>113.230003</td>\n",
       "      <td>582.299988</td>\n",
       "      <td>269.679993</td>\n",
       "      <td>257.510010</td>\n",
       "      <td>94.150002</td>\n",
       "      <td>252.270004</td>\n",
       "    </tr>\n",
       "    <tr>\n",
       "      <th>2024-11-01</th>\n",
       "      <td>118.599998</td>\n",
       "      <td>86.089996</td>\n",
       "      <td>26.000000</td>\n",
       "      <td>136.000000</td>\n",
       "      <td>43.560001</td>\n",
       "      <td>294.720001</td>\n",
       "      <td>55.500000</td>\n",
       "      <td>98.910004</td>\n",
       "      <td>120.839996</td>\n",
       "      <td>392.309998</td>\n",
       "      <td>...</td>\n",
       "      <td>205.759995</td>\n",
       "      <td>338.540009</td>\n",
       "      <td>212.419998</td>\n",
       "      <td>122.720001</td>\n",
       "      <td>113.190002</td>\n",
       "      <td>586.469971</td>\n",
       "      <td>271.720001</td>\n",
       "      <td>258.390015</td>\n",
       "      <td>93.110001</td>\n",
       "      <td>253.080002</td>\n",
       "    </tr>\n",
       "    <tr>\n",
       "      <th>2024-11-04</th>\n",
       "      <td>117.650002</td>\n",
       "      <td>85.160004</td>\n",
       "      <td>26.020000</td>\n",
       "      <td>135.300003</td>\n",
       "      <td>42.529999</td>\n",
       "      <td>298.010010</td>\n",
       "      <td>55.830002</td>\n",
       "      <td>100.230003</td>\n",
       "      <td>122.930000</td>\n",
       "      <td>390.380005</td>\n",
       "      <td>...</td>\n",
       "      <td>206.419998</td>\n",
       "      <td>337.809998</td>\n",
       "      <td>213.139999</td>\n",
       "      <td>124.949997</td>\n",
       "      <td>112.580002</td>\n",
       "      <td>585.900024</td>\n",
       "      <td>270.309998</td>\n",
       "      <td>258.369995</td>\n",
       "      <td>94.129997</td>\n",
       "      <td>252.550003</td>\n",
       "    </tr>\n",
       "    <tr>\n",
       "      <th>2024-11-05</th>\n",
       "      <td>117.730003</td>\n",
       "      <td>85.489998</td>\n",
       "      <td>26.330000</td>\n",
       "      <td>137.110001</td>\n",
       "      <td>42.560001</td>\n",
       "      <td>297.489990</td>\n",
       "      <td>56.160000</td>\n",
       "      <td>101.339996</td>\n",
       "      <td>122.110001</td>\n",
       "      <td>410.989990</td>\n",
       "      <td>...</td>\n",
       "      <td>207.720001</td>\n",
       "      <td>343.839996</td>\n",
       "      <td>214.899994</td>\n",
       "      <td>125.820000</td>\n",
       "      <td>113.860001</td>\n",
       "      <td>594.390015</td>\n",
       "      <td>272.600006</td>\n",
       "      <td>262.910004</td>\n",
       "      <td>95.379997</td>\n",
       "      <td>255.800003</td>\n",
       "    </tr>\n",
       "  </tbody>\n",
       "</table>\n",
       "<p>5 rows × 44 columns</p>\n",
       "</div>"
      ],
      "text/plain": [
       "                   ABT       ACLS       AMKR         AWK      CMCSA  \\\n",
       "Date                                                                  \n",
       "2024-10-30  114.449997  90.150002  26.730000  135.690002  42.240002   \n",
       "2024-10-31  113.370003  85.309998  25.450001  138.110001  43.669998   \n",
       "2024-11-01  118.599998  86.089996  26.000000  136.000000  43.560001   \n",
       "2024-11-04  117.650002  85.160004  26.020000  135.300003  42.529999   \n",
       "2024-11-05  117.730003  85.489998  26.330000  137.110001  42.560001   \n",
       "\n",
       "                   CRM       CSCO         EHC         EOG         FIX  ...  \\\n",
       "Date                                                                   ...   \n",
       "2024-10-30  296.399994  55.590000  101.339996  120.519997  390.149994  ...   \n",
       "2024-10-31  291.369995  54.770000   99.459999  121.959999  391.040009  ...   \n",
       "2024-11-01  294.720001  55.500000   98.910004  120.839996  392.309998  ...   \n",
       "2024-11-04  298.010010  55.830002  100.230003  122.930000  390.380005  ...   \n",
       "2024-11-05  297.489990  56.160000  101.339996  122.110001  410.989990  ...   \n",
       "\n",
       "                   VAW         VCR         VDC         VDE         VFH  \\\n",
       "Date                                                                     \n",
       "2024-10-30  208.860001  338.390015  212.570007  123.029999  114.879997   \n",
       "2024-10-31  205.800003  333.089996  212.050003  123.639999  113.230003   \n",
       "2024-11-01  205.759995  338.540009  212.419998  122.720001  113.190002   \n",
       "2024-11-04  206.419998  337.809998  213.139999  124.949997  112.580002   \n",
       "2024-11-05  207.720001  343.839996  214.899994  125.820000  113.860001   \n",
       "\n",
       "                   VGT         VHT         VIS        VNQ        VTHR  \n",
       "Date                                                                   \n",
       "2024-10-30  602.320007  272.369995  260.769989  95.769997  256.799988  \n",
       "2024-10-31  582.299988  269.679993  257.510010  94.150002  252.270004  \n",
       "2024-11-01  586.469971  271.720001  258.390015  93.110001  253.080002  \n",
       "2024-11-04  585.900024  270.309998  258.369995  94.129997  252.550003  \n",
       "2024-11-05  594.390015  272.600006  262.910004  95.379997  255.800003  \n",
       "\n",
       "[5 rows x 44 columns]"
      ]
     },
     "execution_count": 86,
     "metadata": {},
     "output_type": "execute_result"
    }
   ],
   "source": [
    "HF_tickers = [\"VTHR\", \"VAW\", \"VCR\", \"VDE\", \"VFH\", \"VIS\", \"VNQ\", \"VGT\", \"VDC\", \"VHT\", \"ACLS\", \"GPK\",  \"CMCSA\",  \"CSCO\",  \"CRM\",  \"MKTX\",  \"OSK\",  \"HON\",  \"AMKR\",  \"KEYS\",  \"LMT\",  \n",
    "\"MP\",  \"MSFT\",  \"QRVO\",  \"PM\",  \"SAN\",  \"SLB\",  \"TMUS\",  \"TJX\",  \"REGN\",  \"GEN\",  \n",
    "\"HSY\",  \"AWK\",  \"TXT\",  \"KO\",  \"FIX\",  \"V\",  \"HWM\",  \"EOG\",  \"MTH\",  \"LULU\",  \n",
    "\"SYK\",  \"ABT\",  \"EHC\"]\n",
    "\n",
    "data = yf.download(HF_tickers, start = \"2008-01-01\", end = \"2024-11-06\")['Adj Close']\n",
    "data.tail()"
   ]
  },
  {
   "cell_type": "code",
   "execution_count": 92,
   "id": "a88c4c2b-28fc-4689-8378-613ddca049af",
   "metadata": {},
   "outputs": [],
   "source": [
    "returns = data.pct_change().dropna()"
   ]
  },
  {
   "cell_type": "code",
   "execution_count": 93,
   "id": "c3460220-2cc0-450a-b249-a28d9a3c8783",
   "metadata": {},
   "outputs": [
    {
     "name": "stdin",
     "output_type": "stream",
     "text": [
      "Enter Current Portfolio Value 1865928\n"
     ]
    }
   ],
   "source": [
    "port_val = float(input('Enter Current Portfolio Value'))"
   ]
  },
  {
   "cell_type": "code",
   "execution_count": 94,
   "id": "cfe65cdf-53b0-41b2-b3c7-0a5f6167177a",
   "metadata": {},
   "outputs": [],
   "source": [
    "#weights\n",
    "weights = [\n",
    "    0.01873119, 0.01116618, 0.02892258, 0.01805429, 0.02898665,\n",
    "       0.04415935, 0.02650381, 0.02006567, 0.01998417, 0.02571044,\n",
    "       0.02111754, 0.03950623, 0.01749903, 0.01412339, 0.0187947 ,\n",
    "       0.02832901, 0.01767772, 0.02892212, 0.01449901, 0.02324676,\n",
    "       0.02144879, 0.01819821, 0.01544409, 0.03718504, 0.02212205,\n",
    "       0.01107391, 0.01352855, 0.0169047 , 0.01411563, 0.01834651,\n",
    "       0.04082442, 0.02703733, 0.01511657, 0.04563801, 0.00992254,\n",
    "       0.        , 0.02252079, 0.        , 0.01153189, 0.04172383,\n",
    "       0.        , 0.00029331, 0.        , 0.12688693\n",
    "]\n",
    "np_weights = np.array(weights)"
   ]
  },
  {
   "cell_type": "code",
   "execution_count": 95,
   "id": "53c429de-79a5-41e9-a2e2-c1a5d31ff60e",
   "metadata": {},
   "outputs": [],
   "source": [
    "#portfolio parameters\n",
    "confidence_level = 0.95\n",
    "portfolio_value = port_val"
   ]
  },
  {
   "cell_type": "code",
   "execution_count": 96,
   "id": "3baeb616-e6ed-4a31-bb67-d9e500ea9bc3",
   "metadata": {},
   "outputs": [],
   "source": [
    "portfolio_mean = np.dot(weights, returns.mean())\n",
    "portfolio_variance = np.dot(np_weights.T, np.dot(returns.cov(), np_weights))\n",
    "portfolio_std = np.sqrt(portfolio_variance)"
   ]
  },
  {
   "cell_type": "code",
   "execution_count": 97,
   "id": "76e08559-eb96-48e7-91b1-752c5822d23e",
   "metadata": {},
   "outputs": [],
   "source": [
    "#z-score\n",
    "z_score = norm.ppf(1 - confidence_level)"
   ]
  },
  {
   "cell_type": "code",
   "execution_count": 98,
   "id": "5ad3437f-2762-4d49-9cfc-e9dd0d1d159a",
   "metadata": {},
   "outputs": [
    {
     "name": "stdout",
     "output_type": "stream",
     "text": [
      "Value at Risk (VaR) at 95.0% confidence: $-32783.10\n"
     ]
    }
   ],
   "source": [
    "VaR = portfolio_value * z_score * portfolio_std\n",
    "\n",
    "print(f\"Value at Risk (VaR) at {confidence_level * 100}% confidence: ${VaR:.2f}\")"
   ]
  },
  {
   "cell_type": "markdown",
   "id": "ad379e7e-be92-4c6e-9324-5c438371081d",
   "metadata": {},
   "source": [
    "1. There’s a 95% chance that the portfolio will not lose more than $27,466.89 over the specified period (for example, one day or one week).\n",
    "2. There’s a 5% chance that the portfolio will lose more than this amount."
   ]
  }
 ],
 "metadata": {
  "kernelspec": {
   "display_name": "Python 3 (ipykernel)",
   "language": "python",
   "name": "python3"
  },
  "language_info": {
   "codemirror_mode": {
    "name": "ipython",
    "version": 3
   },
   "file_extension": ".py",
   "mimetype": "text/x-python",
   "name": "python",
   "nbconvert_exporter": "python",
   "pygments_lexer": "ipython3",
   "version": "3.12.1"
  }
 },
 "nbformat": 4,
 "nbformat_minor": 5
}
